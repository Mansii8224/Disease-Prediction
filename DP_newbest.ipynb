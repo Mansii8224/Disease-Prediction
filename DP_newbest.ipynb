{
  "nbformat": 4,
  "nbformat_minor": 0,
  "metadata": {
    "colab": {
      "provenance": [],
      "gpuType": "T4"
    },
    "kernelspec": {
      "name": "python3",
      "display_name": "Python 3"
    },
    "language_info": {
      "name": "python"
    },
    "accelerator": "GPU"
  },
  "cells": [
    {
      "cell_type": "code",
      "execution_count": null,
      "metadata": {
        "colab": {
          "base_uri": "https://localhost:8080/"
        },
        "id": "cz2cgbojAehg",
        "outputId": "617d60f0-03da-480a-87dc-3bf194a0c19f"
      },
      "outputs": [
        {
          "output_type": "stream",
          "name": "stdout",
          "text": [
            "Requirement already satisfied: numpy in /usr/local/lib/python3.10/dist-packages (1.25.2)\n",
            "Requirement already satisfied: pandas in /usr/local/lib/python3.10/dist-packages (2.0.3)\n",
            "Requirement already satisfied: scikit-learn in /usr/local/lib/python3.10/dist-packages (1.2.2)\n",
            "Requirement already satisfied: python-dateutil>=2.8.2 in /usr/local/lib/python3.10/dist-packages (from pandas) (2.8.2)\n",
            "Requirement already satisfied: pytz>=2020.1 in /usr/local/lib/python3.10/dist-packages (from pandas) (2023.4)\n",
            "Requirement already satisfied: tzdata>=2022.1 in /usr/local/lib/python3.10/dist-packages (from pandas) (2024.1)\n",
            "Requirement already satisfied: scipy>=1.3.2 in /usr/local/lib/python3.10/dist-packages (from scikit-learn) (1.11.4)\n",
            "Requirement already satisfied: joblib>=1.1.1 in /usr/local/lib/python3.10/dist-packages (from scikit-learn) (1.4.2)\n",
            "Requirement already satisfied: threadpoolctl>=2.0.0 in /usr/local/lib/python3.10/dist-packages (from scikit-learn) (3.5.0)\n",
            "Requirement already satisfied: six>=1.5 in /usr/local/lib/python3.10/dist-packages (from python-dateutil>=2.8.2->pandas) (1.16.0)\n"
          ]
        }
      ],
      "source": [
        "#pip install numpy pandas scikit-learn\n"
      ]
    },
    {
      "cell_type": "code",
      "source": [
        "i#mport numpy as np\n",
        "#import pandas as pd\n",
        "#from sklearn.model_selection import train_test_split\n",
        "#from sklearn.preprocessing import OneHotEncoder, StandardScaler\n",
        "#from sklearn.impute import SimpleImputer"
      ],
      "metadata": {
        "id": "Jmo6IIcjChiu"
      },
      "execution_count": null,
      "outputs": []
    },
    {
      "cell_type": "code",
      "source": [
        "#train_df = pd.read_csv('/content/drive/MyDrive/Train_data.csv')\n",
        "#test_df = pd.read_csv('/content/drive/MyDrive/test_data.csv')"
      ],
      "metadata": {
        "id": "tbUJ5ThxCsU1"
      },
      "execution_count": null,
      "outputs": []
    },
    {
      "cell_type": "code",
      "source": [
        "#X_train = train_df.drop('Disease', axis=1)\n",
        "#y_train = train_df['Disease']"
      ],
      "metadata": {
        "id": "_97sDN1nDAt_"
      },
      "execution_count": null,
      "outputs": []
    },
    {
      "cell_type": "code",
      "source": [
        "#X_test = test_df.drop('Disease', axis=1)\n",
        "#y_test = test_df['Disease']"
      ],
      "metadata": {
        "id": "5oB-5hv6DMJQ"
      },
      "execution_count": null,
      "outputs": []
    },
    {
      "cell_type": "code",
      "source": [
        "#mask = y_test != 'Heart Di'\n",
        "#X_test = X_test[mask]\n",
        "#y_test = y_test[mask]"
      ],
      "metadata": {
        "id": "WSUFH6iBDQFF"
      },
      "execution_count": null,
      "outputs": []
    },
    {
      "cell_type": "code",
      "source": [
        "#imputer = SimpleImputer(strategy='mean')\n",
        "#X_train = imputer.fit_transform(X_train)\n",
        "#X_test = imputer.transform(X_test)"
      ],
      "metadata": {
        "id": "_Wuo0TjbDTj_"
      },
      "execution_count": null,
      "outputs": []
    },
    {
      "cell_type": "code",
      "source": [
        "#scaler = StandardScaler()\n",
        "#X_train = scaler.fit_transform(X_train)\n",
        "#X_test = scaler.transform(X_test)"
      ],
      "metadata": {
        "id": "qQAQNYJoDV-r"
      },
      "execution_count": null,
      "outputs": []
    },
    {
      "cell_type": "code",
      "source": [
        "#one_hot_encoder = OneHotEncoder(sparse_output=False)\n",
        "#y_train_encoded = one_hot_encoder.fit_transform(y_train.values.reshape(-1, 1))\n",
        "#y_test_encoded = one_hot_encoder.transform(y_test.values.reshape(-1, 1))"
      ],
      "metadata": {
        "id": "PfJ0ZIwrDZF4"
      },
      "execution_count": null,
      "outputs": []
    },
    {
      "cell_type": "code",
      "source": [
        "#print(\"Original Target (train):\\n\", y_train.head())\n",
        "#print(\"\\nOne-Hot Encoded Target (train):\\n\", pd.DataFrame(y_train_encoded, columns=one_hot_encoder.categories_[0]))\n",
        "#print(\"\\nOriginal Target (test) after removing 'Heart Di':\\n\", y_test.head())\n",
        "#print(\"\\nOne-Hot Encoded Target (test) after removing 'Heart Di':\\n\", pd.DataFrame(y_test_encoded, columns=one_hot_encoder.categories_[0]))"
      ],
      "metadata": {
        "colab": {
          "base_uri": "https://localhost:8080/"
        },
        "id": "dTGyx8kLDq7C",
        "outputId": "41dbd610-b04f-46dd-b475-267dca7146ec"
      },
      "execution_count": null,
      "outputs": [
        {
          "output_type": "stream",
          "name": "stdout",
          "text": [
            "Original Target (train):\n",
            " 0     Healthy\n",
            "1    Diabetes\n",
            "2    Thalasse\n",
            "3      Anemia\n",
            "4    Thalasse\n",
            "Name: Disease, dtype: object\n",
            "\n",
            "One-Hot Encoded Target (train):\n",
            "       Anemia  Diabetes  Healthy  Thalasse  Thromboc\n",
            "0        0.0       0.0      1.0       0.0       0.0\n",
            "1        0.0       1.0      0.0       0.0       0.0\n",
            "2        0.0       0.0      0.0       1.0       0.0\n",
            "3        1.0       0.0      0.0       0.0       0.0\n",
            "4        0.0       0.0      0.0       1.0       0.0\n",
            "...      ...       ...      ...       ...       ...\n",
            "2346     0.0       1.0      0.0       0.0       0.0\n",
            "2347     0.0       0.0      0.0       1.0       0.0\n",
            "2348     1.0       0.0      0.0       0.0       0.0\n",
            "2349     0.0       1.0      0.0       0.0       0.0\n",
            "2350     1.0       0.0      0.0       0.0       0.0\n",
            "\n",
            "[2351 rows x 5 columns]\n",
            "\n",
            "Original Target (test) after removing 'Heart Di':\n",
            " 0    Thalasse\n",
            "1    Diabetes\n",
            "3    Diabetes\n",
            "6    Diabetes\n",
            "7    Diabetes\n",
            "Name: Disease, dtype: object\n",
            "\n",
            "One-Hot Encoded Target (test) after removing 'Heart Di':\n",
            "      Anemia  Diabetes  Healthy  Thalasse  Thromboc\n",
            "0       0.0       0.0      0.0       1.0       0.0\n",
            "1       0.0       1.0      0.0       0.0       0.0\n",
            "2       0.0       1.0      0.0       0.0       0.0\n",
            "3       0.0       1.0      0.0       0.0       0.0\n",
            "4       0.0       1.0      0.0       0.0       0.0\n",
            "..      ...       ...      ...       ...       ...\n",
            "442     0.0       1.0      0.0       0.0       0.0\n",
            "443     0.0       1.0      0.0       0.0       0.0\n",
            "444     1.0       0.0      0.0       0.0       0.0\n",
            "445     0.0       1.0      0.0       0.0       0.0\n",
            "446     0.0       1.0      0.0       0.0       0.0\n",
            "\n",
            "[447 rows x 5 columns]\n"
          ]
        }
      ]
    },
    {
      "cell_type": "code",
      "source": [
        "#print(\"Original Target:\\n\", y_train.head())\n",
        "#print(\"\\nOne-Hot Encoded Target:\\n\", pd.DataFrame(y_train_encoded, columns=one_hot_encoder.categories_[0]))"
      ],
      "metadata": {
        "colab": {
          "base_uri": "https://localhost:8080/"
        },
        "id": "WeOd6EbzEBtm",
        "outputId": "f73c4928-58e5-4a9d-fdd1-fd4014c1a9fb"
      },
      "execution_count": null,
      "outputs": [
        {
          "output_type": "stream",
          "name": "stdout",
          "text": [
            "Original Target:\n",
            " 0     Healthy\n",
            "1    Diabetes\n",
            "2    Thalasse\n",
            "3      Anemia\n",
            "4    Thalasse\n",
            "Name: Disease, dtype: object\n",
            "\n",
            "One-Hot Encoded Target:\n",
            "       Anemia  Diabetes  Healthy  Thalasse  Thromboc\n",
            "0        0.0       0.0      1.0       0.0       0.0\n",
            "1        0.0       1.0      0.0       0.0       0.0\n",
            "2        0.0       0.0      0.0       1.0       0.0\n",
            "3        1.0       0.0      0.0       0.0       0.0\n",
            "4        0.0       0.0      0.0       1.0       0.0\n",
            "...      ...       ...      ...       ...       ...\n",
            "2346     0.0       1.0      0.0       0.0       0.0\n",
            "2347     0.0       0.0      0.0       1.0       0.0\n",
            "2348     1.0       0.0      0.0       0.0       0.0\n",
            "2349     0.0       1.0      0.0       0.0       0.0\n",
            "2350     1.0       0.0      0.0       0.0       0.0\n",
            "\n",
            "[2351 rows x 5 columns]\n"
          ]
        }
      ]
    },
    {
      "cell_type": "code",
      "source": [
        "\"\"\"from sklearn.decomposition import PCA\n",
        "from sklearn.feature_selection import SelectKBest, f_classif\"\"\"\n"
      ],
      "metadata": {
        "id": "-K90nxP9EQuT"
      },
      "execution_count": null,
      "outputs": []
    },
    {
      "cell_type": "code",
      "source": [
        "\"\"\"pca = PCA(n_components=12)\n",
        "X_train_pca = pca.fit_transform(X_train)\n",
        "X_test_pca = pca.transform(X_test)\"\"\"\n"
      ],
      "metadata": {
        "id": "5IgcrzQdETyY"
      },
      "execution_count": null,
      "outputs": []
    },
    {
      "cell_type": "code",
      "source": [
        "\"\"\"selector = SelectKBest(f_classif, k=10)\n",
        "X_train_selected = selector.fit_transform(X_train_pca, y_train)\n",
        "X_test_selected = selector.transform(X_test_pca)\"\"\""
      ],
      "metadata": {
        "colab": {
          "base_uri": "https://localhost:8080/",
          "height": 53
        },
        "id": "Ne_Ty0hOEWkh",
        "outputId": "8d6df3a2-4709-44fc-8dae-eb321b7120df"
      },
      "execution_count": null,
      "outputs": [
        {
          "output_type": "execute_result",
          "data": {
            "text/plain": [
              "'selector = SelectKBest(f_classif, k=10)\\nX_train_selected = selector.fit_transform(X_train_pca, y_train)\\nX_test_selected = selector.transform(X_test_pca)'"
            ],
            "application/vnd.google.colaboratory.intrinsic+json": {
              "type": "string"
            }
          },
          "metadata": {},
          "execution_count": 25
        }
      ]
    },
    {
      "cell_type": "code",
      "source": [
        "\"\"\"from sklearn.linear_model import LogisticRegression\n",
        "from sklearn.ensemble import RandomForestClassifier, GradientBoostingClassifier\n",
        "from sklearn.metrics import accuracy_score, precision_score, recall_score, f1_score\n",
        "\n"
      ],
      "metadata": {
        "id": "WOZmk8_EEaNU"
      },
      "execution_count": null,
      "outputs": []
    },
    {
      "cell_type": "code",
      "source": [
        "\"\"\"logreg = LogisticRegression(max_iter=1000)\n",
        "rf = RandomForestClassifier()\n",
        "gbc = GradientBoostingClassifier()\n"
      ],
      "metadata": {
        "id": "VQcEP3xdEflk"
      },
      "execution_count": null,
      "outputs": []
    },
    {
      "cell_type": "code",
      "source": [
        "\"\"\"logreg.fit(X_train_selected, y_train)\n",
        "rf.fit(X_train_selected, y_train)\n",
        "gbc.fit(X_train_selected, y_train)\n"
      ],
      "metadata": {
        "colab": {
          "base_uri": "https://localhost:8080/",
          "height": 75
        },
        "id": "7fnIYVnDEi2J",
        "outputId": "405e93c2-d03f-4271-ee5e-152c95278edf"
      },
      "execution_count": null,
      "outputs": [
        {
          "output_type": "execute_result",
          "data": {
            "text/plain": [
              "GradientBoostingClassifier()"
            ],
            "text/html": [
              "<style>#sk-container-id-1 {color: black;background-color: white;}#sk-container-id-1 pre{padding: 0;}#sk-container-id-1 div.sk-toggleable {background-color: white;}#sk-container-id-1 label.sk-toggleable__label {cursor: pointer;display: block;width: 100%;margin-bottom: 0;padding: 0.3em;box-sizing: border-box;text-align: center;}#sk-container-id-1 label.sk-toggleable__label-arrow:before {content: \"▸\";float: left;margin-right: 0.25em;color: #696969;}#sk-container-id-1 label.sk-toggleable__label-arrow:hover:before {color: black;}#sk-container-id-1 div.sk-estimator:hover label.sk-toggleable__label-arrow:before {color: black;}#sk-container-id-1 div.sk-toggleable__content {max-height: 0;max-width: 0;overflow: hidden;text-align: left;background-color: #f0f8ff;}#sk-container-id-1 div.sk-toggleable__content pre {margin: 0.2em;color: black;border-radius: 0.25em;background-color: #f0f8ff;}#sk-container-id-1 input.sk-toggleable__control:checked~div.sk-toggleable__content {max-height: 200px;max-width: 100%;overflow: auto;}#sk-container-id-1 input.sk-toggleable__control:checked~label.sk-toggleable__label-arrow:before {content: \"▾\";}#sk-container-id-1 div.sk-estimator input.sk-toggleable__control:checked~label.sk-toggleable__label {background-color: #d4ebff;}#sk-container-id-1 div.sk-label input.sk-toggleable__control:checked~label.sk-toggleable__label {background-color: #d4ebff;}#sk-container-id-1 input.sk-hidden--visually {border: 0;clip: rect(1px 1px 1px 1px);clip: rect(1px, 1px, 1px, 1px);height: 1px;margin: -1px;overflow: hidden;padding: 0;position: absolute;width: 1px;}#sk-container-id-1 div.sk-estimator {font-family: monospace;background-color: #f0f8ff;border: 1px dotted black;border-radius: 0.25em;box-sizing: border-box;margin-bottom: 0.5em;}#sk-container-id-1 div.sk-estimator:hover {background-color: #d4ebff;}#sk-container-id-1 div.sk-parallel-item::after {content: \"\";width: 100%;border-bottom: 1px solid gray;flex-grow: 1;}#sk-container-id-1 div.sk-label:hover label.sk-toggleable__label {background-color: #d4ebff;}#sk-container-id-1 div.sk-serial::before {content: \"\";position: absolute;border-left: 1px solid gray;box-sizing: border-box;top: 0;bottom: 0;left: 50%;z-index: 0;}#sk-container-id-1 div.sk-serial {display: flex;flex-direction: column;align-items: center;background-color: white;padding-right: 0.2em;padding-left: 0.2em;position: relative;}#sk-container-id-1 div.sk-item {position: relative;z-index: 1;}#sk-container-id-1 div.sk-parallel {display: flex;align-items: stretch;justify-content: center;background-color: white;position: relative;}#sk-container-id-1 div.sk-item::before, #sk-container-id-1 div.sk-parallel-item::before {content: \"\";position: absolute;border-left: 1px solid gray;box-sizing: border-box;top: 0;bottom: 0;left: 50%;z-index: -1;}#sk-container-id-1 div.sk-parallel-item {display: flex;flex-direction: column;z-index: 1;position: relative;background-color: white;}#sk-container-id-1 div.sk-parallel-item:first-child::after {align-self: flex-end;width: 50%;}#sk-container-id-1 div.sk-parallel-item:last-child::after {align-self: flex-start;width: 50%;}#sk-container-id-1 div.sk-parallel-item:only-child::after {width: 0;}#sk-container-id-1 div.sk-dashed-wrapped {border: 1px dashed gray;margin: 0 0.4em 0.5em 0.4em;box-sizing: border-box;padding-bottom: 0.4em;background-color: white;}#sk-container-id-1 div.sk-label label {font-family: monospace;font-weight: bold;display: inline-block;line-height: 1.2em;}#sk-container-id-1 div.sk-label-container {text-align: center;}#sk-container-id-1 div.sk-container {/* jupyter's `normalize.less` sets `[hidden] { display: none; }` but bootstrap.min.css set `[hidden] { display: none !important; }` so we also need the `!important` here to be able to override the default hidden behavior on the sphinx rendered scikit-learn.org. See: https://github.com/scikit-learn/scikit-learn/issues/21755 */display: inline-block !important;position: relative;}#sk-container-id-1 div.sk-text-repr-fallback {display: none;}</style><div id=\"sk-container-id-1\" class=\"sk-top-container\"><div class=\"sk-text-repr-fallback\"><pre>GradientBoostingClassifier()</pre><b>In a Jupyter environment, please rerun this cell to show the HTML representation or trust the notebook. <br />On GitHub, the HTML representation is unable to render, please try loading this page with nbviewer.org.</b></div><div class=\"sk-container\" hidden><div class=\"sk-item\"><div class=\"sk-estimator sk-toggleable\"><input class=\"sk-toggleable__control sk-hidden--visually\" id=\"sk-estimator-id-1\" type=\"checkbox\" checked><label for=\"sk-estimator-id-1\" class=\"sk-toggleable__label sk-toggleable__label-arrow\">GradientBoostingClassifier</label><div class=\"sk-toggleable__content\"><pre>GradientBoostingClassifier()</pre></div></div></div></div></div>"
            ]
          },
          "metadata": {},
          "execution_count": 18
        }
      ]
    },
    {
      "cell_type": "code",
      "source": [
        "\"\"\"models = {'Logistic Regression': logreg, 'Random Forest': rf, 'Gradient Boosting': gbc}\n",
        "best_model = None\n",
        "best_accuracy = 0"
      ],
      "metadata": {
        "id": "HREujt_-Em_C"
      },
      "execution_count": null,
      "outputs": []
    },
    {
      "cell_type": "code",
      "source": [
        "\"\"\"for name, model in models.items():\n",
        "    y_pred = model.predict(X_test_selected)\n",
        "    accuracy = accuracy_score(y_test, y_pred)\n",
        "    precision = precision_score(y_test, y_pred, average='weighted')\n",
        "    recall = recall_score(y_test, y_pred, average='weighted')\n",
        "    f1 = f1_score(y_test, y_pred, average='weighted')"
      ],
      "metadata": {
        "id": "mKiMqumCEqK5"
      },
      "execution_count": null,
      "outputs": []
    },
    {
      "cell_type": "code",
      "source": [
        "\"\"\"print(f\"{name} - Accuracy: {accuracy:.2f}, Precision: {precision:.2f}, Recall: {recall:.2f}, F1 Score: {f1:.2f}\")"
      ],
      "metadata": {
        "colab": {
          "base_uri": "https://localhost:8080/"
        },
        "id": "dsaKoyRrEtts",
        "outputId": "935e67b9-2b6f-44c2-c20d-7b235da88106"
      },
      "execution_count": null,
      "outputs": [
        {
          "output_type": "stream",
          "name": "stdout",
          "text": [
            "Gradient Boosting - Accuracy: 0.29, Precision: 0.57, Recall: 0.29, F1 Score: 0.35\n"
          ]
        }
      ]
    },
    {
      "cell_type": "code",
      "source": [
        "\"\"\"if accuracy > best_accuracy:\n",
        "        best_accuracy = accuracy\n",
        "        best_model = model\n",
        "\n",
        "print(f\"\\nBest Model: {best_model.__class__.__name__} with Accuracy: {best_accuracy:.2f}\")"
      ],
      "metadata": {
        "colab": {
          "base_uri": "https://localhost:8080/"
        },
        "id": "YjYyKEcdEx57",
        "outputId": "0444fb49-897f-47ef-e5ad-e4cb52afb96c"
      },
      "execution_count": null,
      "outputs": [
        {
          "output_type": "stream",
          "name": "stdout",
          "text": [
            "\n",
            "Best Model: GradientBoostingClassifier with Accuracy: 0.29\n"
          ]
        }
      ]
    },
    {
      "cell_type": "code",
      "source": [
        "#y_pred = best_model.predict(X_test_selected)\n"
      ],
      "metadata": {
        "id": "81RNFEDeE2HO"
      },
      "execution_count": null,
      "outputs": []
    },
    {
      "cell_type": "code",
      "source": [
        "#y_pred_decoded = one_hot_encoder.inverse_transform(y_pred)"
      ],
      "metadata": {
        "colab": {
          "base_uri": "https://localhost:8080/",
          "height": 311
        },
        "id": "aLr-AIguE4fD",
        "outputId": "b2c32e98-445e-47c1-9fac-f6d7ea74a71e"
      },
      "execution_count": null,
      "outputs": [
        {
          "output_type": "error",
          "ename": "ValueError",
          "evalue": "could not convert string to float: 'Anemia'",
          "traceback": [
            "\u001b[0;31m---------------------------------------------------------------------------\u001b[0m",
            "\u001b[0;31mValueError\u001b[0m                                Traceback (most recent call last)",
            "\u001b[0;32m<ipython-input-24-2245837edbe6>\u001b[0m in \u001b[0;36m<cell line: 1>\u001b[0;34m()\u001b[0m\n\u001b[0;32m----> 1\u001b[0;31m \u001b[0my_pred_decoded\u001b[0m \u001b[0;34m=\u001b[0m \u001b[0mone_hot_encoder\u001b[0m\u001b[0;34m.\u001b[0m\u001b[0minverse_transform\u001b[0m\u001b[0;34m(\u001b[0m\u001b[0my_pred\u001b[0m\u001b[0;34m)\u001b[0m\u001b[0;34m\u001b[0m\u001b[0;34m\u001b[0m\u001b[0m\n\u001b[0m",
            "\u001b[0;32m/usr/local/lib/python3.10/dist-packages/sklearn/preprocessing/_encoders.py\u001b[0m in \u001b[0;36minverse_transform\u001b[0;34m(self, X)\u001b[0m\n\u001b[1;32m    984\u001b[0m         \"\"\"\n\u001b[1;32m    985\u001b[0m         \u001b[0mcheck_is_fitted\u001b[0m\u001b[0;34m(\u001b[0m\u001b[0mself\u001b[0m\u001b[0;34m)\u001b[0m\u001b[0;34m\u001b[0m\u001b[0;34m\u001b[0m\u001b[0m\n\u001b[0;32m--> 986\u001b[0;31m         \u001b[0mX\u001b[0m \u001b[0;34m=\u001b[0m \u001b[0mcheck_array\u001b[0m\u001b[0;34m(\u001b[0m\u001b[0mX\u001b[0m\u001b[0;34m,\u001b[0m \u001b[0maccept_sparse\u001b[0m\u001b[0;34m=\u001b[0m\u001b[0;34m\"csr\"\u001b[0m\u001b[0;34m)\u001b[0m\u001b[0;34m\u001b[0m\u001b[0;34m\u001b[0m\u001b[0m\n\u001b[0m\u001b[1;32m    987\u001b[0m \u001b[0;34m\u001b[0m\u001b[0m\n\u001b[1;32m    988\u001b[0m         \u001b[0mn_samples\u001b[0m\u001b[0;34m,\u001b[0m \u001b[0m_\u001b[0m \u001b[0;34m=\u001b[0m \u001b[0mX\u001b[0m\u001b[0;34m.\u001b[0m\u001b[0mshape\u001b[0m\u001b[0;34m\u001b[0m\u001b[0;34m\u001b[0m\u001b[0m\n",
            "\u001b[0;32m/usr/local/lib/python3.10/dist-packages/sklearn/utils/validation.py\u001b[0m in \u001b[0;36mcheck_array\u001b[0;34m(array, accept_sparse, accept_large_sparse, dtype, order, copy, force_all_finite, ensure_2d, allow_nd, ensure_min_samples, ensure_min_features, estimator, input_name)\u001b[0m\n\u001b[1;32m    877\u001b[0m                     \u001b[0marray\u001b[0m \u001b[0;34m=\u001b[0m \u001b[0mxp\u001b[0m\u001b[0;34m.\u001b[0m\u001b[0mastype\u001b[0m\u001b[0;34m(\u001b[0m\u001b[0marray\u001b[0m\u001b[0;34m,\u001b[0m \u001b[0mdtype\u001b[0m\u001b[0;34m,\u001b[0m \u001b[0mcopy\u001b[0m\u001b[0;34m=\u001b[0m\u001b[0;32mFalse\u001b[0m\u001b[0;34m)\u001b[0m\u001b[0;34m\u001b[0m\u001b[0;34m\u001b[0m\u001b[0m\n\u001b[1;32m    878\u001b[0m                 \u001b[0;32melse\u001b[0m\u001b[0;34m:\u001b[0m\u001b[0;34m\u001b[0m\u001b[0;34m\u001b[0m\u001b[0m\n\u001b[0;32m--> 879\u001b[0;31m                     \u001b[0marray\u001b[0m \u001b[0;34m=\u001b[0m \u001b[0m_asarray_with_order\u001b[0m\u001b[0;34m(\u001b[0m\u001b[0marray\u001b[0m\u001b[0;34m,\u001b[0m \u001b[0morder\u001b[0m\u001b[0;34m=\u001b[0m\u001b[0morder\u001b[0m\u001b[0;34m,\u001b[0m \u001b[0mdtype\u001b[0m\u001b[0;34m=\u001b[0m\u001b[0mdtype\u001b[0m\u001b[0;34m,\u001b[0m \u001b[0mxp\u001b[0m\u001b[0;34m=\u001b[0m\u001b[0mxp\u001b[0m\u001b[0;34m)\u001b[0m\u001b[0;34m\u001b[0m\u001b[0;34m\u001b[0m\u001b[0m\n\u001b[0m\u001b[1;32m    880\u001b[0m             \u001b[0;32mexcept\u001b[0m \u001b[0mComplexWarning\u001b[0m \u001b[0;32mas\u001b[0m \u001b[0mcomplex_warning\u001b[0m\u001b[0;34m:\u001b[0m\u001b[0;34m\u001b[0m\u001b[0;34m\u001b[0m\u001b[0m\n\u001b[1;32m    881\u001b[0m                 raise ValueError(\n",
            "\u001b[0;32m/usr/local/lib/python3.10/dist-packages/sklearn/utils/_array_api.py\u001b[0m in \u001b[0;36m_asarray_with_order\u001b[0;34m(array, dtype, order, copy, xp)\u001b[0m\n\u001b[1;32m    183\u001b[0m     \u001b[0;32mif\u001b[0m \u001b[0mxp\u001b[0m\u001b[0;34m.\u001b[0m\u001b[0m__name__\u001b[0m \u001b[0;32min\u001b[0m \u001b[0;34m{\u001b[0m\u001b[0;34m\"numpy\"\u001b[0m\u001b[0;34m,\u001b[0m \u001b[0;34m\"numpy.array_api\"\u001b[0m\u001b[0;34m}\u001b[0m\u001b[0;34m:\u001b[0m\u001b[0;34m\u001b[0m\u001b[0;34m\u001b[0m\u001b[0m\n\u001b[1;32m    184\u001b[0m         \u001b[0;31m# Use NumPy API to support order\u001b[0m\u001b[0;34m\u001b[0m\u001b[0;34m\u001b[0m\u001b[0m\n\u001b[0;32m--> 185\u001b[0;31m         \u001b[0marray\u001b[0m \u001b[0;34m=\u001b[0m \u001b[0mnumpy\u001b[0m\u001b[0;34m.\u001b[0m\u001b[0masarray\u001b[0m\u001b[0;34m(\u001b[0m\u001b[0marray\u001b[0m\u001b[0;34m,\u001b[0m \u001b[0morder\u001b[0m\u001b[0;34m=\u001b[0m\u001b[0morder\u001b[0m\u001b[0;34m,\u001b[0m \u001b[0mdtype\u001b[0m\u001b[0;34m=\u001b[0m\u001b[0mdtype\u001b[0m\u001b[0;34m)\u001b[0m\u001b[0;34m\u001b[0m\u001b[0;34m\u001b[0m\u001b[0m\n\u001b[0m\u001b[1;32m    186\u001b[0m         \u001b[0;32mreturn\u001b[0m \u001b[0mxp\u001b[0m\u001b[0;34m.\u001b[0m\u001b[0masarray\u001b[0m\u001b[0;34m(\u001b[0m\u001b[0marray\u001b[0m\u001b[0;34m,\u001b[0m \u001b[0mcopy\u001b[0m\u001b[0;34m=\u001b[0m\u001b[0mcopy\u001b[0m\u001b[0;34m)\u001b[0m\u001b[0;34m\u001b[0m\u001b[0;34m\u001b[0m\u001b[0m\n\u001b[1;32m    187\u001b[0m     \u001b[0;32melse\u001b[0m\u001b[0;34m:\u001b[0m\u001b[0;34m\u001b[0m\u001b[0;34m\u001b[0m\u001b[0m\n",
            "\u001b[0;31mValueError\u001b[0m: could not convert string to float: 'Anemia'"
          ]
        }
      ]
    },
    {
      "cell_type": "code",
      "source": [
        "import numpy as np\n",
        "import pandas as pd\n",
        "from sklearn.model_selection import train_test_split\n",
        "from sklearn.preprocessing import OneHotEncoder, StandardScaler\n",
        "from sklearn.impute import SimpleImputer\n",
        "from sklearn.linear_model import LogisticRegression\n",
        "from sklearn.ensemble import RandomForestClassifier, GradientBoostingClassifier\n",
        "from sklearn.metrics import accuracy_score, precision_score, recall_score, f1_score\n",
        "\n",
        "# Load training and testing data\n",
        "train_df = pd.read_csv('/content/drive/MyDrive/Train_data.csv')\n",
        "test_df = pd.read_csv('/content/drive/MyDrive/test_data.csv')\n",
        "\n",
        "# Separate features and target\n",
        "X_train = train_df.drop('Disease', axis=1)\n",
        "y_train = train_df['Disease']\n",
        "\n",
        "X_test = test_df.drop('Disease', axis=1)\n",
        "y_test = test_df['Disease']\n",
        "\n",
        "# Remove rows where the Disease is 'Heart Di' in the test dataset\n",
        "mask = y_test != 'Heart Di'\n",
        "X_test = X_test[mask]\n",
        "y_test = y_test[mask]\n",
        "\n",
        "# Handle missing values if any\n",
        "imputer = SimpleImputer(strategy='mean')\n",
        "X_train = imputer.fit_transform(X_train)\n",
        "X_test = imputer.transform(X_test)\n",
        "\n",
        "# Standardize features\n",
        "scaler = StandardScaler()\n",
        "X_train = scaler.fit_transform(X_train)\n",
        "X_test = scaler.transform(X_test)\n",
        "\n",
        "# One-Hot Encode the target variable\n",
        "one_hot_encoder = OneHotEncoder(sparse=False)\n",
        "y_train_encoded = one_hot_encoder.fit_transform(y_train.values.reshape(-1, 1))\n",
        "\n",
        "# Since y_test has removed 'Heart Di' rows, re-fit encoder with remaining test set\n",
        "unique_labels = np.unique(y_test)\n",
        "one_hot_encoder = OneHotEncoder(categories=[unique_labels], sparse=False)\n",
        "y_test_encoded = one_hot_encoder.fit_transform(y_test.values.reshape(-1, 1))\n",
        "\n",
        "# Display the original and encoded target\n",
        "print(\"Original Target (train):\\n\", y_train.head())\n",
        "print(\"\\nOne-Hot Encoded Target (train):\\n\", pd.DataFrame(y_train_encoded, columns=one_hot_encoder.categories_[0]))\n",
        "print(\"\\nOriginal Target (test) after removing 'Heart Di':\\n\", y_test.head())\n",
        "print(\"\\nOne-Hot Encoded Target (test) after removing 'Heart Di':\\n\", pd.DataFrame(y_test_encoded, columns=one_hot_encoder.categories_[0]))\n",
        "\n",
        "# Train models\n",
        "logreg = LogisticRegression(max_iter=1000)\n",
        "rf = RandomForestClassifier()\n",
        "gbc = GradientBoostingClassifier()\n",
        "\n",
        "logreg.fit(X_train, y_train)\n",
        "rf.fit(X_train, y_train)\n",
        "gbc.fit(X_train, y_train)\n",
        "\n",
        "# Predict and evaluate\n",
        "models = {'Logistic Regression': logreg, 'Random Forest': rf, 'Gradient Boosting': gbc}\n",
        "best_model = None\n",
        "best_accuracy = 0\n",
        "\n",
        "for name, model in models.items():\n",
        "    y_pred = model.predict(X_test)\n",
        "    y_pred_encoded = one_hot_encoder.transform(y_pred.reshape(-1, 1))\n",
        "\n",
        "    accuracy = accuracy_score(y_test_encoded.argmax(axis=1), y_pred_encoded.argmax(axis=1))\n",
        "    precision = precision_score(y_test_encoded.argmax(axis=1), y_pred_encoded.argmax(axis=1), average='weighted')\n",
        "    recall = recall_score(y_test_encoded.argmax(axis=1), y_pred_encoded.argmax(axis=1), average='weighted')\n",
        "    f1 = f1_score(y_test_encoded.argmax(axis=1), y_pred_encoded.argmax(axis=1), average='weighted')\n",
        "\n",
        "    print(f\"{name} - Accuracy: {accuracy:.2f}, Precision: {precision:.2f}, Recall: {recall:.2f}, F1 Score: {f1:.2f}\")\n",
        "\n",
        "    if accuracy > best_accuracy:\n",
        "        best_accuracy = accuracy\n",
        "        best_model = model\n",
        "\n",
        "print(f\"\\nBest Model: {best_model.__class__.__name__} with Accuracy: {best_accuracy:.2f}\")\n",
        "\n",
        "# Predict using the best model\n",
        "y_pred = best_model.predict(X_test)\n",
        "y_pred_decoded = one_hot_encoder.inverse_transform(one_hot_encoder.transform(y_pred.reshape(-1, 1)))\n",
        "\n",
        "# Evaluate and display metrics for the best model\n",
        "accuracy = accuracy_score(y_test, y_pred_decoded)\n",
        "precision = precision_score(y_test, y_pred_decoded, average='weighted')\n",
        "recall = recall_score(y_test, y_pred_decoded, average='weighted')\n",
        "f1 = f1_score(y_test, y_pred_decoded, average='weighted')\n",
        "\n",
        "print(f\"\\nBest Model Evaluation Metrics - Accuracy: {accuracy:.2f}, Precision: {precision:.2f}, Recall: {recall:.2f}, F1 Score: {f1:.2f}\")\n"
      ],
      "metadata": {
        "colab": {
          "base_uri": "https://localhost:8080/"
        },
        "id": "MZ_kFOOKGZhb",
        "outputId": "82f25787-e778-4896-d042-9a34444d390e"
      },
      "execution_count": null,
      "outputs": [
        {
          "output_type": "stream",
          "name": "stderr",
          "text": [
            "/usr/local/lib/python3.10/dist-packages/sklearn/preprocessing/_encoders.py:868: FutureWarning: `sparse` was renamed to `sparse_output` in version 1.2 and will be removed in 1.4. `sparse_output` is ignored unless you leave `sparse` to its default value.\n",
            "  warnings.warn(\n",
            "/usr/local/lib/python3.10/dist-packages/sklearn/preprocessing/_encoders.py:868: FutureWarning: `sparse` was renamed to `sparse_output` in version 1.2 and will be removed in 1.4. `sparse_output` is ignored unless you leave `sparse` to its default value.\n",
            "  warnings.warn(\n"
          ]
        },
        {
          "output_type": "stream",
          "name": "stdout",
          "text": [
            "Original Target (train):\n",
            " 0     Healthy\n",
            "1    Diabetes\n",
            "2    Thalasse\n",
            "3      Anemia\n",
            "4    Thalasse\n",
            "Name: Disease, dtype: object\n",
            "\n",
            "One-Hot Encoded Target (train):\n",
            "       Anemia  Diabetes  Healthy  Thalasse  Thromboc\n",
            "0        0.0       0.0      1.0       0.0       0.0\n",
            "1        0.0       1.0      0.0       0.0       0.0\n",
            "2        0.0       0.0      0.0       1.0       0.0\n",
            "3        1.0       0.0      0.0       0.0       0.0\n",
            "4        0.0       0.0      0.0       1.0       0.0\n",
            "...      ...       ...      ...       ...       ...\n",
            "2346     0.0       1.0      0.0       0.0       0.0\n",
            "2347     0.0       0.0      0.0       1.0       0.0\n",
            "2348     1.0       0.0      0.0       0.0       0.0\n",
            "2349     0.0       1.0      0.0       0.0       0.0\n",
            "2350     1.0       0.0      0.0       0.0       0.0\n",
            "\n",
            "[2351 rows x 5 columns]\n",
            "\n",
            "Original Target (test) after removing 'Heart Di':\n",
            " 0    Thalasse\n",
            "1    Diabetes\n",
            "3    Diabetes\n",
            "6    Diabetes\n",
            "7    Diabetes\n",
            "Name: Disease, dtype: object\n",
            "\n",
            "One-Hot Encoded Target (test) after removing 'Heart Di':\n",
            "      Anemia  Diabetes  Healthy  Thalasse  Thromboc\n",
            "0       0.0       0.0      0.0       1.0       0.0\n",
            "1       0.0       1.0      0.0       0.0       0.0\n",
            "2       0.0       1.0      0.0       0.0       0.0\n",
            "3       0.0       1.0      0.0       0.0       0.0\n",
            "4       0.0       1.0      0.0       0.0       0.0\n",
            "..      ...       ...      ...       ...       ...\n",
            "442     0.0       1.0      0.0       0.0       0.0\n",
            "443     0.0       1.0      0.0       0.0       0.0\n",
            "444     1.0       0.0      0.0       0.0       0.0\n",
            "445     0.0       1.0      0.0       0.0       0.0\n",
            "446     0.0       1.0      0.0       0.0       0.0\n",
            "\n",
            "[447 rows x 5 columns]\n",
            "Logistic Regression - Accuracy: 0.34, Precision: 0.55, Recall: 0.34, F1 Score: 0.40\n",
            "Random Forest - Accuracy: 0.48, Precision: 0.60, Recall: 0.48, F1 Score: 0.51\n",
            "Gradient Boosting - Accuracy: 0.48, Precision: 0.59, Recall: 0.48, F1 Score: 0.51\n",
            "\n",
            "Best Model: RandomForestClassifier with Accuracy: 0.48\n",
            "\n",
            "Best Model Evaluation Metrics - Accuracy: 0.48, Precision: 0.60, Recall: 0.48, F1 Score: 0.51\n"
          ]
        }
      ]
    },
    {
      "cell_type": "code",
      "source": [],
      "metadata": {
        "id": "-r-24iLXjIW3"
      },
      "execution_count": null,
      "outputs": []
    }
  ]
}